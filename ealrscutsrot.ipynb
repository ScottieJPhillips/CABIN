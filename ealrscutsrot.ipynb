{
 "cells": [
  {
   "cell_type": "code",
   "execution_count": 2,
   "id": "af269ab2-8e31-4ec6-bfcc-de34530a3267",
   "metadata": {},
   "outputs": [],
   "source": [
    "import uproot \n"
   ]
  },
  {
   "cell_type": "code",
   "execution_count": 4,
   "id": "0f01f35d-0ea7-4786-8615-c034b0013fbe",
   "metadata": {},
   "outputs": [
    {
     "name": "stdout",
     "output_type": "stream",
     "text": [
      "{'y_Reta': array([], dtype=float32), 'y_Rphi': array([], dtype=float32), 'y_weta1': array([], dtype=float32), 'y_weta2': array([], dtype=float32), 'y_deltae': array([], dtype=float32), 'y_fracs1': array([], dtype=float32), 'y_Eratio': array([], dtype=float32), 'y_wtots1': array([], dtype=float32), 'y_Rhad': array([], dtype=float32), 'y_Rhad1': array([], dtype=float32), 'y_pt_custom': array([], dtype=float32), 'y_eta_custom': array([], dtype=float32), 'evt_mu': array([], dtype=float32), 'mcTotWeight': array([], dtype=float32)}\n"
     ]
    }
   ],
   "source": [
    "filepath = '/data/ealmazan/optimised_files/results/mc23a/rad_Z_unconverted/root_files/sgn_unconverted_80100_2.4710.0_160.root'\n",
    "treename = \"SinglePhoton\"\n",
    "with uproot.open(filepath) as f:\n",
    "        tree = f[treename]\n",
    "        data = tree.arrays(library=\"np\")\n",
    "# y_\n",
    "print(data)"
   ]
  },
  {
   "cell_type": "code",
   "execution_count": null,
   "id": "d32a0530-3b75-4249-9528-fe76035ccc0c",
   "metadata": {},
   "outputs": [],
   "source": [
    "## skip 1.37 to 1.52 eta "
   ]
  }
 ],
 "metadata": {
  "kernelspec": {
   "display_name": "Python 3 (ipykernel)",
   "language": "python",
   "name": "python3"
  },
  "language_info": {
   "codemirror_mode": {
    "name": "ipython",
    "version": 3
   },
   "file_extension": ".py",
   "mimetype": "text/x-python",
   "name": "python",
   "nbconvert_exporter": "python",
   "pygments_lexer": "ipython3",
   "version": "3.8.10"
  }
 },
 "nbformat": 4,
 "nbformat_minor": 5
}
